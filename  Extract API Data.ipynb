{
 "cells": [
  {
   "cell_type": "code",
   "execution_count": 2,
   "id": "44012826",
   "metadata": {},
   "outputs": [],
   "source": [
    "#importing the necessary libraries\n",
    "\n",
    "import requests\n",
    "import pandas as pd\n",
    "import json"
   ]
  },
  {
   "cell_type": "code",
   "execution_count": 3,
   "id": "43e2a4da",
   "metadata": {},
   "outputs": [],
   "source": [
    "#getting data using a free API Key\n",
    "\n",
    "url = \"https://api.apilayer.com/exchangerates_data/latest?base=EUR&apikey=rNMahTMM7dYhJHmC6YzYerzGI7lWZMHm\"\n",
    "data = requests.get(url)"
   ]
  },
  {
   "cell_type": "code",
   "execution_count": 27,
   "id": "85fd9d8c",
   "metadata": {},
   "outputs": [],
   "source": [
    "#casting data into a Pandas DataFrame\n",
    "\n",
    "results = json.loads(data.text)\n",
    "df = pd.DataFrame(results)"
   ]
  },
  {
   "cell_type": "code",
   "execution_count": 28,
   "id": "f9c0f341",
   "metadata": {},
   "outputs": [],
   "source": [
    "# Dropping unnescessary columns\n",
    "\n",
    "df.drop(df.columns[[0, 1]], axis=1, inplace=True)"
   ]
  },
  {
   "cell_type": "code",
   "execution_count": 26,
   "id": "dbb8618d",
   "metadata": {},
   "outputs": [],
   "source": [
    "# Save the Dataframe\n",
    "\n",
    "df.to_csv('exchange_rates_1.csv')\n",
    "df.to_csv(r'C:\\Users\\simon\\JupyterNotebook\\exchange_rates_1.csv')"
   ]
  }
 ],
 "metadata": {
  "kernelspec": {
   "display_name": "Python 3 (ipykernel)",
   "language": "python",
   "name": "python3"
  },
  "language_info": {
   "codemirror_mode": {
    "name": "ipython",
    "version": 3
   },
   "file_extension": ".py",
   "mimetype": "text/x-python",
   "name": "python",
   "nbconvert_exporter": "python",
   "pygments_lexer": "ipython3",
   "version": "3.10.10"
  }
 },
 "nbformat": 4,
 "nbformat_minor": 5
}
