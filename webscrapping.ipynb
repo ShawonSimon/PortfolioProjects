{
 "cells": [
  {
   "cell_type": "code",
   "execution_count": 32,
   "id": "20777db9",
   "metadata": {},
   "outputs": [],
   "source": [
    "#import librabries\n",
    "\n",
    "from bs4 import BeautifulSoup\n",
    "import requests\n",
    "import pandas as pd"
   ]
  },
  {
   "cell_type": "code",
   "execution_count": 66,
   "id": "6fdfb300",
   "metadata": {},
   "outputs": [],
   "source": [
    "#Gather the contents of the webpage in text format\n",
    "\n",
    "import requests\n",
    "url = \"https://en.wikipedia.org/wiki/List_of_largest_banks\"\n",
    "html_data = requests.get(url).text"
   ]
  },
  {
   "cell_type": "code",
   "execution_count": 67,
   "id": "61bfb15e",
   "metadata": {},
   "outputs": [],
   "source": [
    "#Using BeautifulSoup parse the contents of the webpage.\n",
    "\n",
    "soup = BeautifulSoup(html_data,\"html.parser\")"
   ]
  },
  {
   "cell_type": "code",
   "execution_count": 68,
   "id": "aee03ea1",
   "metadata": {},
   "outputs": [],
   "source": [
    "tables = soup.find_all('table')"
   ]
  },
  {
   "cell_type": "code",
   "execution_count": null,
   "id": "cc3c34c8",
   "metadata": {},
   "outputs": [],
   "source": [
    "#getting the second table which is the Market Cap table\n",
    "tables[2]"
   ]
  },
  {
   "cell_type": "code",
   "execution_count": null,
   "id": "f3c5f38c",
   "metadata": {},
   "outputs": [],
   "source": [
    "#creating a dataframe from the table\n",
    "\n",
    "data = pd.DataFrame(columns=[\"Name\", \"Market Cap (US$ Billion)\"])\n",
    "\n",
    "for row in soup.find_all('tbody')[2].find_all('tr'):\n",
    "    col = row.find_all('td')\n",
    "    if (col != []):\n",
    "        Name = col[1].text.strip()\n",
    "        MarketCap = col[2].text.strip()\n",
    "        data = data.append({\"Name\":Name, \"Market Cap (US$ Billion)\":MarketCap}, ignore_index=True)\n",
    "\n",
    "data"
   ]
  },
  {
   "cell_type": "code",
   "execution_count": null,
   "id": "bfd4ca61",
   "metadata": {},
   "outputs": [],
   "source": [
    "#getting the first five rows\n",
    "\n",
    "data.head(5)"
   ]
  },
  {
   "cell_type": "code",
   "execution_count": 82,
   "id": "8881ce35",
   "metadata": {},
   "outputs": [],
   "source": [
    "#loading the dataframe into a JSON file\n",
    "\n",
    "data.to_json(r'C:\\Users\\simon\\OneDrive\\Documents\\json\\bank_market_cap.json')\n"
   ]
  }
 ],
 "metadata": {
  "kernelspec": {
   "display_name": "Python 3 (ipykernel)",
   "language": "python",
   "name": "python3"
  },
  "language_info": {
   "codemirror_mode": {
    "name": "ipython",
    "version": 3
   },
   "file_extension": ".py",
   "mimetype": "text/x-python",
   "name": "python",
   "nbconvert_exporter": "python",
   "pygments_lexer": "ipython3",
   "version": "3.10.10"
  }
 },
 "nbformat": 4,
 "nbformat_minor": 5
}
